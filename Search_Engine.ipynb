{
 "cells": [
  {
   "cell_type": "code",
   "execution_count": 1,
   "id": "b4d9bc15-947e-4898-b7e6-921a2f112a9c",
   "metadata": {},
   "outputs": [],
   "source": [
    "#Importing all modules\n",
    "from GoogleNews import GoogleNews\n",
    "from newspaper import Article\n",
    "import nltk\n",
    "from nltk import word_tokenize\n",
    "from nltk.tokenize import RegexpTokenizer\n",
    "from nltk.stem import PorterStemmer, WordNetLemmatizer\n",
    "from nltk.corpus import stopwords\n",
    "from collections import defaultdict\n",
    "from numpy import dot\n",
    "from numpy.linalg import norm\n",
    "import math\n",
    "googlenews = GoogleNews()"
   ]
  },
  {
   "cell_type": "code",
   "execution_count": 2,
   "id": "eb327316-b093-4974-abac-0385fac45cce",
   "metadata": {},
   "outputs": [
    {
     "name": "stdout",
     "output_type": "stream",
     "text": [
      "The corpus is being created. Please refrain from running further blocks of code until the corpus is created.\n",
      "A corpus containing documents has been created.\n"
     ]
    }
   ],
   "source": [
    "\"\"\"\n",
    "We create a corpus consisting of text from googlenews documents.\n",
    "The GoogleNews API is used to collect the articles. Each article is collected and added to the corpus.\n",
    "\"\"\"\n",
    "\n",
    "#topics chosen\n",
    "topic_array = ['Health', 'Travel', 'India', 'Vaccines','Covid', 'Hospitals', 'Varients', 'Airport', 'Covaxin','Quarantine', 'Omicron']\n",
    "\n",
    "corpus = []\n",
    "document_count = 0\n",
    "links=[]\n",
    "print(\"The corpus is being created. Please refrain from running further blocks of code until the corpus is created.\")\n",
    "\n",
    "for topic in topic_array:\n",
    "    googlenews.search(topic)\n",
    "    for result in googlenews.results():\n",
    "        article = Article(result['link'])\n",
    "        try:\n",
    "            article.download()\n",
    "            article.parse()\n",
    "            if len(article.text) > 0:\n",
    "                corpus.append(article.text)\n",
    "                links.append(result['link'])\n",
    "                document_count += 1\n",
    "            if document_count == 100:\n",
    "                break\n",
    "        except:\n",
    "            continue\n",
    "    googlenews.clear()\n",
    "\n",
    "print(\"A corpus containing documents has been created.\")"
   ]
  },
  {
   "cell_type": "code",
   "execution_count": 3,
   "id": "c97f2ec1",
   "metadata": {},
   "outputs": [
    {
     "name": "stdout",
     "output_type": "stream",
     "text": [
      "Corpus pre processing done\n"
     ]
    }
   ],
   "source": [
    "\"\"\"\n",
    "Preprocessing the document corpus\n",
    "\"\"\"\n",
    "processed_corpus=[]\n",
    "for document in corpus:\n",
    "\n",
    "    #Pre-processing steps\n",
    "    #Removal of digits from document\n",
    "    document = ''.join(ch for ch in document if not ch.isdigit())\n",
    "\n",
    "    #Tokenization\n",
    "    tokenizer = RegexpTokenizer(r'\\w+')\n",
    "    document_without_punctuations = tokenizer.tokenize(document)\n",
    "\n",
    "    #Normalization\n",
    "    normalized_document = []\n",
    "    for ele in document_without_punctuations:\n",
    "        normalized_document.append(ele.lower())\n",
    "\n",
    "    #Lemmatizing since its slightly better than Stemming\n",
    "    lemmatizer = WordNetLemmatizer()\n",
    "    lemmatized_document = []\n",
    "    for ele in normalized_document:\n",
    "        lemmatized_document.append(lemmatizer.lemmatize(ele))\n",
    "        \n",
    "    final_document = []\n",
    "    stopwords = nltk.corpus.stopwords.words('english')\n",
    "    for word in lemmatized_document:\n",
    "        if word not in stopwords:\n",
    "            final_document.append(word)\n",
    "\n",
    "    processed_corpus.append(' '.join(final_document))\n",
    "\n",
    "print(\"Corpus pre processing done\")\n"
   ]
  },
  {
   "cell_type": "code",
   "execution_count": 4,
   "id": "2a23c6d1",
   "metadata": {},
   "outputs": [
    {
     "name": "stdout",
     "output_type": "stream",
     "text": [
      "Vocabulary created\n"
     ]
    }
   ],
   "source": [
    "\"\"\"\n",
    "Total Vocabulary creation and creating a set of words in each document\n",
    "\"\"\"\n",
    "\n",
    "vocabulary=set()\n",
    "doc_words=[set() for i in range(100)]\n",
    "i=0\n",
    "for document in processed_corpus:\n",
    "    for word in document.split():\n",
    "        vocabulary.add(word)\n",
    "        doc_words[i].add(word)\n",
    "    i+=1\n",
    "print(\"Vocabulary created\")"
   ]
  },
  {
   "cell_type": "code",
   "execution_count": 5,
   "id": "d5bd3ffd",
   "metadata": {},
   "outputs": [
    {
     "name": "stdout",
     "output_type": "stream",
     "text": [
      "All values computed\n"
     ]
    }
   ],
   "source": [
    "\"\"\"\n",
    "Calculating fij,Fi,N and link values\n",
    "\"\"\"\n",
    "corpus=processed_corpus\n",
    "# calculating number of times ki occurs in the document dj\n",
    "fij=defaultdict(lambda :0)\n",
    "docid=0\n",
    "for document in corpus:\n",
    "    for word in document.split():\n",
    "        fij[(word,docid)]+=1\n",
    "    docid+=1\n",
    "\n",
    "links_dict=defaultdict(lambda :0)\n",
    "docid=0\n",
    "for link in links:\n",
    "    links_dict[docid]=link\n",
    "    docid+=1\n",
    "    \n",
    "# frequency of occurence of term ki in the corpus\n",
    "Fi=defaultdict(lambda : 0)\n",
    "fijkeys=list(fij.keys())\n",
    "for key in fijkeys:\n",
    "    Fi[key[0]]+=fij[(key[0],key[1])]\n",
    "    \n",
    "N=len(corpus)\n",
    "print(\"All values computed\")"
   ]
  },
  {
   "cell_type": "code",
   "execution_count": 6,
   "id": "bdb8111b",
   "metadata": {},
   "outputs": [
    {
     "name": "stdout",
     "output_type": "stream",
     "text": [
      "{'covid': 0, 'india': 1}\n"
     ]
    }
   ],
   "source": [
    "'''\n",
    "Calculating original BM1, BM11 and BM15\n",
    "'''\n",
    "query=\"covid india\"\n",
    "query=query.split()\n",
    "query_terms={}\n",
    "termid=0\n",
    "for term in query:\n",
    "    query_terms[term]=termid\n",
    "    termid+=1\n",
    "\n",
    "print(query_terms)\n",
    "#Standard values\n",
    "K1=1\n",
    "S1=(K1+1)\n",
    "K2=0\n",
    "K3=10\n",
    "S3=(K3+1)"
   ]
  },
  {
   "cell_type": "code",
   "execution_count": 7,
   "id": "8ce909e3",
   "metadata": {},
   "outputs": [
    {
     "name": "stdout",
     "output_type": "stream",
     "text": [
      "Rankings:  [100, 99, 98, 97, 96, 95, 94, 93, 92, 91, 90, 89, 88, 87, 86, 81, 79, 78, 77, 76, 75, 74, 73, 72, 71, 70, 69, 68, 67, 65, 64, 63, 62, 61, 60, 59, 58, 57, 56, 55, 54, 53, 52, 50, 49, 46, 45, 44, 43, 42, 41, 40, 39, 38, 37, 36, 35, 34, 33, 32, 31, 30, 24, 23, 22, 19, 18, 17, 15, 14, 13, 11, 10, 9, 8, 7, 6, 5, 4, 3, 2, 1, 16, 48, 47, 80, 84, 82, 66, 28, 85, 21, 20, 12, 51, 25, 83, 26, 27, 29]\n",
      "Links:  [0, 'https://www.bloomberg.com/news/articles/2021-12-01/omicron-found-in-74-of-s-african-covid-19-samples-in-november', 'https://www.reuters.com/business/healthcare-pharmaceuticals/who-expects-have-more-information-omicron-transmission-within-days-2021-12-01/', 'https://www.cbsnews.com/news/covid-omicron-variant-vaccine-moderna/', 'https://www.news.com.au/world/coronavirus/australia/omicron-australia-covid-updates-new-data-reveals-truth-about-variants-origin/news-story/2cced02b37309937ed6617b26ca8c7d4', 'https://news.sky.com/story/covid-19-some-omicron-cases-have-mild-symptoms-and-experts-should-know-more-in-coming-days-who-12483930', 'https://www.reuters.com/world/americas/brazil-alert-after-third-case-omicron-variant-2021-12-01/', 'https://pantagraph.com/news/state-and-regional/unvaccinated-students-can-test-out-of-covid-19-quarantine-in-new-chicago-pilot-program/article_851e6a88-9ce8-5798-b6ad-bb3d9678b30b.html', 'https://www.malaymail.com/news/world/2021/12/01/us-plans-tougher-testing-quarantine-requirements-for-travelers/2025268', 'https://www.mlive.com/news/jackson/2021/12/lawsuit-targeting-rescinded-covid-quarantine-order-is-baseless-health-agency-school-district-officials-say.html', 'https://www.news24.com/news24/world/news/covid-19-us-to-soon-require-international-travellers-to-quarantine-reports-20211201', 'https://liveandletsfly.com/mandatory-post-travel-quarantine-usa/', 'https://www.news.com.au/world/coronavirus/australia/omicron-australia-covid-updates-new-data-reveals-truth-about-variants-origin/news-story/2cced02b37309937ed6617b26ca8c7d4', 'https://www.euronews.com/travel/2021/12/01/it-was-like-living-in-a-cage-uk-quarantine-hotel-reviews-from-former-guests', 'https://www.swindonadvertiser.co.uk/news/19755716.covid-tests-7-days-quarantine-fines-christmas-flights-us-uk/', 'https://www.thehindu.com/news/national/covaxin-for-children-recommendations-being-studied-says-minister/article37787753.ece', 'https://www.indiatvnews.com/news/india/omicron-will-current-vaccines-remain-effective-covishield-covaxin-modern-pfizer-drugmakers-explain-747657', 'https://www.thehindubusinessline.com/news/covaxin-likely-to-be-effective-against-omicron-variant-too-icmr-official/article37795135.ece', 'https://www.thehindu.com/news/cities/Tiruchirapalli/airport/article37794113.ece', 'https://www.thenorthernecho.co.uk/news/19755290.vlogger-paul-lucas-person-use-teesside-airport-train-station/', 'https://www.waaytv.com/content/news/Huntsville-police-FBI-investigating-Airport-Road-bank-robbery-575841911.html', 'https://www.passengerterminaltoday.com/news/operations-news/tav-fraport-joint-venture-renews-operating-concession-for-antalya-airport.html', 'https://www.livemint.com/news/india/rajasthan-jaipur-airport-ramps-up-testing-facilities-amid-omicron-threat-11638375263070.html', 'https://www.app.com.pk/national/skardu-airport-to-operate-as-an-international-airport-from-december-2/', 'https://indianexpress.com/article/cities/delhi/delhi-news-live-updates-air-pollution-omicron-airport-testing-7646650/', 'https://www.tbsnews.net/bangladesh/bomb-scare-dhaka-airport-337534', 'https://www.sandiegouniontribune.com/ramona-sentinel/news/story/2021-12-01/ramona-news-briefs', 'https://www.limerickleader.ie/news/breaking-news/702605/drugs-destined-for-limerick-seized-at-shannon-airport.html', 'https://nypost.com/2021/12/01/israeli-minister-says-data-shows-booster-works-against-omicron-variant/', 'https://www.livemint.com/news/india/how-genome-sequencing-can-confirm-presence-of-omicron-variant-expert-explains-11638371181225.html', 'https://www.theguardian.com/business/2021/dec/01/oecd-warns-new-covid-variant-could-cause-severe-global-slowdown-omicron', 'https://www.theguardian.com/world/2021/dec/01/israeli-doctor-believes-he-caught-omicron-variant-of-covid-in-london', 'https://www.cbsnews.com/news/covid-omicron-variant-vaccine-moderna/', 'https://www.usnews.com/news/world/articles/2021-12-01/live-updates-portugal-orders-measures-to-fight-virus-surge', 'https://www.gsmarena.com/samsung_galaxy_s21_fe_color_variants_and_supposed_european_price_revealed-news-52096.php', 'https://www.reuters.com/world/americas/brazil-alert-after-third-case-omicron-variant-2021-12-01/', 'https://www.expressandstar.com/news/health/coronavirus-covid19/2021/12/01/seven-further-coronavirus-deaths-recorded-in-the-regions-hospitals/', 'https://news.yahoo.com/uhs-wilson-hospital-set-suspend-151947960.html', 'https://www.dailyrecord.co.uk/news/scottish-news/police-search-missing-man-last-25591939', 'https://www.eveningtribune.com/story/news/2021/12/01/st-james-hospital-halts-elective-surgeries-nys-covid-order-hochul/8820754002/', 'https://blackburnnews.com/midwestern-ontario/midwestern-ontario-news/2021/12/01/crash-south-bruce-sends-one-person-hospital/', 'https://www.geo.tv/latest/385329-kamal-haasan-has-recovered-from-covid-19-says-hospital', 'https://www.lancs.live/news/lancashire-news/blackpool-victoria-hospital-worker-charged-22334705', 'https://www.khaleejtimes.com/coronavirus/covid-19-india-postpones-resumption-of-international-flights-from-dec-15', 'https://www.khaleejtimes.com/coronavirus/covid-19-omicron-variant-vietnam-to-suspend-flights-to-from-7-african-countries', 'https://www.khaleejtimes.com/coronavirus/covid-19-treatment-abu-dhabi-to-provide-new-medicine-for-mild-symptoms', 'https://www.khaleejtimes.com/coronavirus/covid-19-south-korea-reports-five-omicron-cases-on-flight-from-nigeria', 'https://www.khaleejtimes.com/coronavirus/uae-24744-covid-vaccine-doses-administered-in-24-hours', 'https://www.cnet.com/health/pfizer-covid-booster-faq-new-omicron-variant-vaccine-side-effects-whos-eligible-and-more/', 'https://gulfnews.com/opinion/op-eds/covid-19-how-omicron-will-affect-me-and-my-daily-life-1.1638366707881', 'https://www.nytimes.com/2021/11/27/world/africa/omicron-covid-greek-alphabet.html', 'https://www.khaleejtimes.com/coronavirus/german-icus-expect-covid-peak-to-hit-hospitals-by-christmas', 'https://www.khaleejtimes.com/coronavirus/covid-19-who-expects-to-have-more-information-on-omicron-transmission-within-days', 'https://www.ft.com/content/6724a23a-0f5d-420d-b2c2-1bd9c9a8b448', 'https://www.nzherald.co.nz/nz/covid-19-delta-outbreak-coroner-investigating-whether-dunedin-mans-death-connected-to-vaccine-days-earlier/J7UKEB52KDBWZARGJ2R76HKWTQ/', 'https://www.nytimes.com/2021/12/01/world/africa/coranavirus-vaccine-hesitancy-africa.html', 'https://www.nytimes.com/live/2021/11/30/world/omicron-variant-covid', 'https://www.washingtonpost.com/health/2021/12/01/omicron-vaccine-pfizer-biontech-ugur-sahin/', 'https://www.reuters.com/business/healthcare-pharmaceuticals/moderna-loses-appeal-challenging-arbutus-vaccine-patents-2021-12-01/', 'https://www.nbcnews.com/nbc-out/out-health-and-wellness/world-aids-day-world-closer-hiv-vaccine-face-covid-19-rcna6945', 'https://www.washingtonpost.com/us-policy/2021/12/01/government-shutdown-coronavirus-vaccine/', 'https://www.independent.co.uk/news/covid-omicron-variant-cases-lockdown-live-b1967407.html', 'https://www.espn.com/field-hockey/story/_/id/32762098/india-beat-belgium-1-0-enter-semifinals-course-defend-junior-hockey-wc-title', 'https://timesofindia.indiatimes.com/city/bengaluru/exhibitions-cultural-events-attract-blureans/articleshow/88034078.cms', 'https://timesofindia.indiatimes.com/india/road-crashes-claimed-lives-of-23483-pedestrians-in-2020/articleshow/88036451.cms', 'https://timesofindia.indiatimes.com/india/coronavirus-live-updates-india-and-world-november-30/liveblog/87992315.cms', 'https://www.cnn.com/2021/11/30/politics/coronavirus-testing-travelers-us-biden-administration/index.html', 'https://www.newstalkzb.co.nz/on-demand/newstalk-zbeen/newstalk-zbeen-so-about-your-christmas-travel-plans/', 'https://www.usnews.com/news/world/articles/2021-12-01/factbox-global-travel-curbs-triggered-by-omicron', 'https://www.bbc.co.uk/news/business-59492261', 'https://www.yakimaherald.com/news/nation_and_world/live-updates-who-travel-bans-hurting-global-cooperation/article_6e1ab392-7d17-5d52-98b5-0cdeca84c10f.html', 'https://timesofindia.indiatimes.com/india/coronavirus-live-updates-india-and-world-november-30/liveblog/87992315.cms', 'https://dailytrust.com/omicron-travel-ban-discriminatory-ramaphosa-hits-western-leaders', 'https://www.gosanangelo.com/story/news/2021/12/01/federal-judge-blocks-vaccine-mandate-u-s-health-workers/8821466002/', 'https://theathletic.com/news/nuggets-austin-rivers-bones-hyland-out-after-entering-health-and-safety-protocols-sources/aTdV6ksk3NM8/', 'https://globalnews.ca/news/8416313/peterborough-regional-health-centre-reports-high-emergency-department-and-inpatient-volumes/', 'https://www.news.com.au/world/coronavirus/australia/omicron-australia-covid-updates-new-data-reveals-truth-about-variants-origin/news-story/2cced02b37309937ed6617b26ca8c7d4', 'https://www.usnews.com/news/health-news/articles/2021-12-01/outside-supreme-court-crowd-amplifies-abortion-arguments', 'https://finance.yahoo.com/news/graphite-health-hires-senior-intermountain-170000571.html', 'https://www.news9.com/story/61a7ab3123a70a0be47b9af5/health-leader-to-give-covid19-update-', 'https://www.dallasnews.com/business/health-care/2021/12/01/signify-health-to-create-200-jobs-in-new-regional-hub-in-oklahoma-city/', 'https://www.psu.edu/news/hershey/story/trial-study-if-mindfulness-helps-diabetes-related-stress-health', 'https://www.theguardian.com/australia-news/2021/dec/02/trapped-in-travel-limbo-for-years-visa-holders-consider-giving-up-australia-to-see-family', 'https://www.khaleejtimes.com/coronavirus/covid-19-time-to-think-about-mandatory-vaccination-says-eu-chief', 'https://www.khaleejtimes.com/coronavirus/coronavirus-uae-reports-68-covid-19-cases-85-recoveries-1-death', 'https://economictimes.indiatimes.com/news/india/scientific-conjecture-says-covaxin-more-effective-against-omicron-dr-samiran-panda-head-of-epidemiology-icmr/videoshow/88034346.cms', 'https://www.newsbytesapp.com/news/india/covid-19-vaccines-covishield-covaxin-efficacy-against-omicron-variant/story', 'https://www.expresspharma.in/covaxin-and-covishield-the-sun-and-the-moon-of-indian-vaccine-industry/', 'https://www.thejournal.ie/first-omicron-case-ireland-5613966-Dec2021/', 'https://cricketaddictor.com/new-zealand-tour-of-india-2021/ind-vs-nz-2021-india-new-zealand-cancel-training-session-because-of-mumbai-rains/', 'https://www.independent.co.uk/news/covid-omicron-variant-cases-lockdown-live-b1967407.html', 'https://timesofindia.indiatimes.com/india/breaking-news-live-updates-india-and-world-december-1/liveblog/88019216.cms', 'https://www.reuters.com/world/india/indias-serum-institute-delivers-first-novavax-shot-through-covax-2021-12-01/', 'https://timesofindia.indiatimes.com/world/rest-of-world/travel-bans-hurting-global-cooperation-against-omicron-strain-who/articleshow/88036681.cms', 'https://consumer.healthday.com/many-hospitals-lack-all-trans-retinoic-acid-for-leukemia-2655750735.html', 'https://www.wionews.com/sports/fih-junior-world-cup-defending-champs-india-edge-past-belgium-1-0-in-thriller-to-play-germany-in-semis-433322', 'https://www.indiaspend.com/indiaspend-interviews/omicron-vaccines-like-covaxin-may-be-safer-to-depend-on-in-the-long-run-790253', 'https://www.canberratimes.com.au/story/7534582/india-banking-on-captain-kohlis-return/', 'https://www.reuters.com/business/healthcare-pharmaceuticals/indias-sii-promises-40-mln-more-astrazeneca-doses-covax-this-year-2021-12-01/', 'https://www.thesun.co.uk/health/16904751/omicron-variant-covid-uk-vaccine-jab-symptoms-booster-pfizer/']\n",
      "\n",
      "\n"
     ]
    }
   ],
   "source": [
    "#Using BM25 model for ranking\n",
    "\n",
    "avg_doclen=0\n",
    "for document in corpus:\n",
    "    avg_doclen+=len(document.split())\n",
    "avg_doclen/=N\n",
    "\n",
    "b=0.75\n",
    "K1=1.2\n",
    "\n",
    "\n",
    "bm25_val=[]\n",
    "docid=0\n",
    "for document in corpus:\n",
    "    for term in query:\n",
    "        final_val=0\n",
    "        if term in document.split():\n",
    "            relation_val=math.log2(abs((N-Fi[term]+0.5)/(Fi[term]+0.5)))\n",
    "            Bij=(((K1+1)*fij[(term,docid)])/(K1*((1-b)+(b*(len(document.split())/avg_doclen)))+fij[(term,docid)]))\n",
    "            val=Bij*relation_val\n",
    "            final_val+=val\n",
    "    bm25_val.append((final_val,docid+1))\n",
    "    docid+=1\n",
    "\n",
    "bm25_val.sort()\n",
    "bm25_ranking=[]\n",
    "bm25_links=[]\n",
    "\n",
    "for j in range(N):\n",
    "    bm25_ranking.append(bm25_val[j][1])\n",
    "    bm25_links.append(links_dict[bm25_val[j][1]])\n",
    "    \n",
    "print(\"Rankings: \", bm25_ranking[::-1])\n",
    "print(\"Links: \", bm25_links[::-1])\n",
    "print('\\n')"
   ]
  }
 ],
 "metadata": {
  "kernelspec": {
   "display_name": "Python 3",
   "language": "python",
   "name": "python3"
  },
  "language_info": {
   "codemirror_mode": {
    "name": "ipython",
    "version": 3
   },
   "file_extension": ".py",
   "mimetype": "text/x-python",
   "name": "python",
   "nbconvert_exporter": "python",
   "pygments_lexer": "ipython3",
   "version": "3.6.13"
  }
 },
 "nbformat": 4,
 "nbformat_minor": 5
}
